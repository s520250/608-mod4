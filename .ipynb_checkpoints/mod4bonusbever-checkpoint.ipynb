{
 "cells": [
  {
   "cell_type": "markdown",
   "id": "909023f7-1dfe-426e-be54-4d70fd9443b3",
   "metadata": {},
   "source": [
    "# Sammie Bever"
   ]
  },
  {
   "cell_type": "code",
   "execution_count": 1,
   "id": "edd579ed-505c-4dfb-b649-5a55df864dfc",
   "metadata": {},
   "outputs": [
    {
     "name": "stdout",
     "output_type": "stream",
     "text": [
      "a :  63\n",
      "and :  58\n",
      "in :  56\n",
      "the :  51\n",
      "to :  44\n",
      "Best :  39\n",
      "of :  37\n",
      "The :  36\n",
      "plant :  30\n",
      "can :  23\n"
     ]
    }
   ],
   "source": [
    "import collections\n",
    "\n",
    "import re\n",
    "\n",
    "words = re.findall(r'\\w+', open('textfile.txt').read())\n",
    "\n",
    "most_common = collections.Counter(words).most_common(10)\n",
    "\n",
    "wordcount = {}\n",
    "\n",
    "d = collections.Counter(words)\n",
    "\n",
    "for words, count in d.most_common(10):\n",
    "    print(words, \": \", count)"
   ]
  },
  {
   "cell_type": "code",
   "execution_count": 2,
   "id": "e1be0baf-20a6-4983-8b59-38f9eb22d73f",
   "metadata": {},
   "outputs": [
    {
     "name": "stdout",
     "output_type": "stream",
     "text": [
      "Best :  39\n",
      "The :  36\n",
      "plant :  30\n",
      "Plant :  19\n",
      "plants :  18\n",
      "This :  15\n",
      "View :  15\n",
      "On :  15\n",
      "indoor :  14\n",
      "comes :  13\n"
     ]
    }
   ],
   "source": [
    "import nltk\n",
    "\n",
    "from nltk.corpus import stopwords\n",
    "\n",
    "import collections\n",
    "\n",
    "import re\n",
    "\n",
    "words = re.findall(r'\\w+', open('textfile.txt').read())\n",
    "\n",
    "stop_words = set(stopwords.words('english'))\n",
    "\n",
    "words = [w for w in words if not w in stop_words]\n",
    "\n",
    "d = collections.Counter(words)\n",
    "\n",
    "for words, count in d.most_common(10):\n",
    "    print(words, \": \", count)\n"
   ]
  },
  {
   "cell_type": "code",
   "execution_count": 3,
   "id": "0b444c70-3044-420a-86fa-07a7bfcc469b",
   "metadata": {},
   "outputs": [
    {
     "name": "stdout",
     "output_type": "stream",
     "text": [
      "the :  86\n",
      "a :  65\n",
      "and :  59\n",
      "in :  51\n",
      "to :  48\n",
      "best :  46\n",
      "plant :  45\n",
      "of :  38\n",
      "plants :  27\n",
      "on :  24\n"
     ]
    }
   ],
   "source": [
    "filename = 'textfile.txt'\n",
    "file = open(filename, 'rt')\n",
    "text = file.read()\n",
    "file.close()\n",
    "words = text.split()\n",
    "words = [word.lower() for word in words]\n",
    "d = collections.Counter(words)\n",
    "for words, count in d.most_common(10):\n",
    "    print(words, \": \", count)"
   ]
  },
  {
   "cell_type": "code",
   "execution_count": null,
   "id": "1a1fe335-3338-4a68-a07e-ad749019c109",
   "metadata": {},
   "outputs": [],
   "source": []
  }
 ],
 "metadata": {
  "kernelspec": {
   "display_name": "Python 3 (ipykernel)",
   "language": "python",
   "name": "python3"
  },
  "language_info": {
   "codemirror_mode": {
    "name": "ipython",
    "version": 3
   },
   "file_extension": ".py",
   "mimetype": "text/x-python",
   "name": "python",
   "nbconvert_exporter": "python",
   "pygments_lexer": "ipython3",
   "version": "3.9.7"
  }
 },
 "nbformat": 4,
 "nbformat_minor": 5
}
